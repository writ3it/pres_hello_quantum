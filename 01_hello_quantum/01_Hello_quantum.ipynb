{
 "cells": [
  {
   "cell_type": "markdown",
   "metadata": {},
   "source": [
    "# Deutsch–Jozsa problem\n",
    "This notebook is a part of [01_Hello_quantum](https://pres.writ3it.tech/01_hello_quantum/01_hello_quantum.html) presentation.\n",
    "\n",
    "### General quantum algorithm\n",
    "(source: wikipedia.org)\n",
    "<img src=\"https://upload.wikimedia.org/wikipedia/commons/b/b5/Deutsch-Jozsa-algorithm-quantum-circuit.png\" alt=\"Drawing\" style=\"width: 600px;\"/>\n"
   ]
  },
  {
   "cell_type": "markdown",
   "metadata": {},
   "source": [
    "### Step 1. Check Qiskit installation"
   ]
  },
  {
   "cell_type": "code",
   "execution_count": 1,
   "metadata": {},
   "outputs": [
    {
     "data": {
      "text/html": [
       "<h3>Version Information</h3><table><tr><th>Qiskit Software</th><th>Version</th></tr><tr><td>Qiskit</td><td>0.13.0</td></tr><tr><td>Terra</td><td>0.10.0</td></tr><tr><td>Aer</td><td>0.3.2</td></tr><tr><td>Ignis</td><td>0.2.0</td></tr><tr><td>Aqua</td><td>None</td></tr><tr><td>IBM Q Provider</td><td>0.3.3</td></tr><tr><th>System information</th></tr><tr><td>Python</td><td>3.6.9 (default, Nov  7 2019, 10:44:02) \n",
       "[GCC 8.3.0]</td></tr><tr><td>OS</td><td>Linux</td></tr><tr><td>CPUs</td><td>8</td></tr><tr><td>Memory (Gb)</td><td>15.677284240722656</td></tr><tr><td colspan='2'>Thu Jan 09 21:44:07 2020 CET</td></tr></table>"
      ],
      "text/plain": [
       "<IPython.core.display.HTML object>"
      ]
     },
     "metadata": {},
     "output_type": "display_data"
    },
    {
     "data": {
      "text/html": [
       "<div style='width: 100%; background-color:#d5d9e0;padding-left: 10px; padding-bottom: 10px; padding-right: 10px; padding-top: 5px'><h3>This code is a part of Qiskit</h3><p>&copy; Copyright IBM 2017, 2020.</p><p>This code is licensed under the Apache License, Version 2.0. You may<br>obtain a copy of this license in the LICENSE.txt file in the root directory<br> of this source tree or at http://www.apache.org/licenses/LICENSE-2.0.<p>Any modifications or derivative works of this code must retain this<br>copyright notice, and modified files need to carry a notice indicating<br>that they have been altered from the originals.</p></div>"
      ],
      "text/plain": [
       "<IPython.core.display.HTML object>"
      ]
     },
     "metadata": {},
     "output_type": "display_data"
    }
   ],
   "source": [
    "import qiskit.tools.jupyter\n",
    "%qiskit_version_table\n",
    "%qiskit_copyright"
   ]
  },
  {
   "cell_type": "markdown",
   "metadata": {},
   "source": [
    "### Step 2. Imports"
   ]
  },
  {
   "cell_type": "code",
   "execution_count": 2,
   "metadata": {},
   "outputs": [],
   "source": [
    "from qiskit import(\n",
    "  QuantumCircuit,\n",
    "  QuantumRegister,\n",
    "  ClassicalRegister,\n",
    "  execute,\n",
    "  Aer)\n",
    "from qiskit.quantum_info.operators import Operator\n",
    "from qiskit.visualization import plot_histogram\n",
    "from qiskit import IBMQ"
   ]
  },
  {
   "cell_type": "markdown",
   "metadata": {},
   "source": [
    "### Step 3. Make Quantum Circuit"
   ]
  },
  {
   "cell_type": "code",
   "execution_count": 3,
   "metadata": {},
   "outputs": [
    {
     "data": {
      "text/html": [
       "<pre style=\"word-wrap: normal;white-space: pre;background: #fff0;line-height: 1.1;font-family: &quot;Courier New&quot;,Courier,monospace\">           ┌───┐      ░       ░ ┌───┐┌─┐         \n",
       "data_0: |0>┤ H ├──────░───■───░─┤ H ├┤M├─────────\n",
       "           ├───┤      ░   │   ░ ├───┤└╥┘┌─┐      \n",
       "data_1: |0>┤ H ├──────░───┼───░─┤ H ├─╫─┤M├──────\n",
       "           ├───┤      ░   │   ░ ├───┤ ║ └╥┘┌─┐   \n",
       "data_2: |0>┤ H ├──────░───┼───░─┤ H ├─╫──╫─┤M├───\n",
       "           ├───┤      ░   │   ░ ├───┤ ║  ║ └╥┘┌─┐\n",
       "data_3: |0>┤ H ├──────░───┼───░─┤ H ├─╫──╫──╫─┤M├\n",
       "           ├───┤┌───┐ ░ ┌─┴─┐ ░ └───┘ ║  ║  ║ └╥┘\n",
       "help_0: |0>┤ X ├┤ H ├─░─┤ X ├─░───────╫──╫──╫──╫─\n",
       "           └───┘└───┘ ░ └───┘ ░       ║  ║  ║  ║ \n",
       "  out_0: 0 ═══════════════════════════╩══╬══╬══╬═\n",
       "                                         ║  ║  ║ \n",
       "  out_1: 0 ══════════════════════════════╩══╬══╬═\n",
       "                                            ║  ║ \n",
       "  out_2: 0 ═════════════════════════════════╩══╬═\n",
       "                                               ║ \n",
       "  out_3: 0 ════════════════════════════════════╩═\n",
       "                                                 </pre>"
      ],
      "text/plain": [
       "<qiskit.visualization.text.TextDrawing at 0x7f378f1decf8>"
      ]
     },
     "execution_count": 3,
     "metadata": {},
     "output_type": "execute_result"
    }
   ],
   "source": [
    "data_qubits = QuantumRegister(4, 'data')\n",
    "helper_qubits = QuantumRegister(1, 'help')\n",
    "output_bits = ClassicalRegister(4, 'out')\n",
    "\n",
    "dj_circuit = QuantumCircuit(data_qubits,helper_qubits,output_bits) \n",
    "\n",
    "# Step 1. Initialization\n",
    "\n",
    "## superposition from 0-state\n",
    "dj_circuit.h(data_qubits) \n",
    "\n",
    "## superposition from 1-state\n",
    "dj_circuit.x(helper_qubits) \n",
    "dj_circuit.h(helper_qubits)\n",
    "\n",
    "\n",
    "dj_circuit.barrier(data_qubits,helper_qubits)\n",
    "\n",
    "# Step 2. Uf implementation\n",
    "dj_circuit.cx(data_qubits[0], helper_qubits[0])\n",
    "\n",
    "dj_circuit.barrier(data_qubits,helper_qubits)\n",
    "\n",
    "# Step 3. Hadamard\n",
    "dj_circuit.h(data_qubits) \n",
    "\n",
    "\n",
    "# Step 4. Measurment\n",
    "dj_circuit.measure(data_qubits, output_bits)\n",
    "\n",
    "# draw\n",
    "dj_circuit.draw()"
   ]
  },
  {
   "cell_type": "markdown",
   "metadata": {},
   "source": [
    "### Step 4. Create machine (simulator) & execute\n",
    "\n",
    "Interpretation of the result:\n",
    "- |0000> - constant\n",
    "- |other> - balanced"
   ]
  },
  {
   "cell_type": "code",
   "execution_count": 4,
   "metadata": {},
   "outputs": [
    {
     "data": {
      "image/png": "[encoded data removed]",
      "text/plain": [
       "<Figure size 504x360 with 1 Axes>"
      ]
     },
     "execution_count": 4,
     "metadata": {},
     "output_type": "execute_result"
    }
   ],
   "source": [
    "simulator = Aer.get_backend('qasm_simulator')\n",
    "job = execute(dj_circuit, simulator, shots=1)\n",
    "result = job.result()\n",
    "counts = result.get_counts(dj_circuit)\n",
    "plot_histogram(counts)"
   ]
  },
  {
   "cell_type": "markdown",
   "metadata": {},
   "source": [
    "### Step 5. Execute in IBMQ"
   ]
  },
  {
   "cell_type": "code",
   "execution_count": 5,
   "metadata": {},
   "outputs": [
    {
     "data": {
      "text/plain": [
       "<AccountProvider for IBMQ(hub='ibm-q', group='open', project='main')>"
      ]
     },
     "execution_count": 5,
     "metadata": {},
     "output_type": "execute_result"
    }
   ],
   "source": [
    "# provide access token\n",
    "IBMQ.enable_account('token')"
   ]
  },
  {
   "cell_type": "code",
   "execution_count": 6,
   "metadata": {},
   "outputs": [
    {
     "data": {
      "image/png": "[encoded data removed]",
      "text/plain": [
       "<Figure size 504x360 with 1 Axes>"
      ]
     },
     "execution_count": 6,
     "metadata": {},
     "output_type": "execute_result"
    }
   ],
   "source": [
    "provider = IBMQ.get_provider()\n",
    "backend = provider.get_backend('ibmq_burlington')\n",
    "job = execute(dj_circuit, backend, shots=1)\n",
    "result = job.result()\n",
    "counts = result.get_counts(dj_circuit)\n",
    "plot_histogram(counts)"
   ]
  }
 ],
 "metadata": {
  "kernelspec": {
   "display_name": "Python 3",
   "language": "python",
   "name": "python3"
  },
  "language_info": {
   "codemirror_mode": {
    "name": "ipython",
    "version": 3
   },
   "file_extension": ".py",
   "mimetype": "text/x-python",
   "name": "python",
   "nbconvert_exporter": "python",
   "pygments_lexer": "ipython3",
   "version": "3.6.9"
  }
 },
 "nbformat": 4,
 "nbformat_minor": 2
}
