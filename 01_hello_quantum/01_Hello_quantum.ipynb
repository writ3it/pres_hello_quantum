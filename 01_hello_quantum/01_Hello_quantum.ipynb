{
 "cells": [
  {
   "cell_type": "markdown",
   "metadata": {},
   "source": [
    "# [writ3it.tech](https://www.writ3it.tech/) Presentation appendix [PL]\n",
    "## Deutsch–Jozsa problem\n",
    "\n",
    "Dana jest funkcja f(x1, x2, x3, ..., xn), która może być **stała** lub **zbalansowana**. Argumenty funkcji x1,x2,x3, ..., xn są binarne tj. przyjmują wartość 0 lub 1. Wynikiem funkcji jest 0 lub 1.\n",
    "- Funkcja jest **stała**, jeżeli dla dowolnych danych wejściowych funkcja zwraca 1 (alternatywnie 0).\n",
    "- Funkcja jest **zbilansowana**, jeżeli dla połowy kombinacji argumentów funkcja zwraca 0, a dla drugiej połowy 1.\n",
    "\n",
    "**Zadaniem** programu jest określenie jakiego typu jest zadana funkcja f. Sposób rozwiązywania tego problemu zwany został przedstawiony na schemacie *Ogólnego obwodu kwantowego*. Algorytm nie znajduje praktycznego zastosowania. Pełni jednak bardzo istotną rolę ponieważ jest przykładem znaczącego wzrostu wydajności, który uwidacznia się w podanych niżej złożonościach obliczeniowych.\n",
    "\n",
    "### Złożoność obliczeniowa\n",
    "\n",
    "- Złożoność algorytmu na komputerze klasycznym: O(2^(n-1) + 1)\n",
    "- Złożoność algorytmu na komputerze kwantowym: O(1)\n",
    "\n",
    "\n",
    "### Ogólny obwód kwantowy\n",
    "\n",
    "(source: wikipedia.org)\n",
    "<img src=\"https://upload.wikimedia.org/wikipedia/commons/b/b5/Deutsch-Jozsa-algorithm-quantum-circuit.png\" alt=\"Drawing\" style=\"width: 600px;\"/>\n",
    "\n",
    "Algorytm składa się z trzech etapów:\n",
    "1. Inicjalizacji stanu kubitów\n",
    "2. Obliczenia wartości funkcji f (bramka Uf)\n",
    "3. Zakończenie przetwarzania układem bramek Hadamarda oraz pomiar stanu końcowego programu\n",
    "\n",
    "### Program kwantowy\n",
    "\n",
    "Poniżej przedstawiono sposób implementacji programu kwantowego wraz z jego uruchomieniem na symulatorze oraz komputerze kwantowym w ramach usługi [IBMQ](https://www.ibm.com/quantum-computing/) świadczonej przez firmę IBM. W tym celu wykorzystano SDK o nazwie Qiskit oraz język Python w wersji 3.7. \n",
    "\n",
    "Aby powtórzyć eksperyment w domowym zaciszu wystarczy, że:\n",
    "1. Zainstalujesz Python np. [Anacondę](https://www.anaconda.com/distribution/)\n",
    "2. Zainstalujesz moduł [Jupyter Notebook](https://jupyter.org/install)\n",
    "3. Zainstalujesz SDK [Qiskit](https://qiskit.org/documentation/install.html)\n",
    "4. Zarejestrujesz się w usłudze [IBMQ](https://www.ibm.com/quantum-computing/).\n",
    "\n",
    "Następnie:\n",
    "1. Pobierz plik Notebook, który właśnie czytasz.\n",
    "2. Otwórz go w Jupyter Notebook"
   ]
  },
  {
   "cell_type": "markdown",
   "metadata": {},
   "source": [
    "### Krok 1. Załadowanie niezbędnych bibliotek"
   ]
  },
  {
   "cell_type": "code",
   "execution_count": 1,
   "metadata": {},
   "outputs": [],
   "source": [
    "import qiskit.tools.jupyter\n",
    "from qiskit import(\n",
    "  QuantumCircuit,\n",
    "  QuantumRegister,\n",
    "  ClassicalRegister,\n",
    "  execute,\n",
    "  Aer)\n",
    "from qiskit.quantum_info.operators import Operator\n",
    "from qiskit.visualization import plot_histogram\n",
    "from qiskit import IBMQ"
   ]
  },
  {
   "cell_type": "markdown",
   "metadata": {},
   "source": [
    "### Krok 2. Budowa obwodu kwantowego (funkcja zbilansowana)"
   ]
  },
  {
   "cell_type": "markdown",
   "metadata": {},
   "source": [
    "W prezentowanym przykładzie funkcja f(...) będzie przyjmować 4 argumenty, których rolę pełnią kubity data_0, data_1, data_2, data_3 zgropowanych w rejestr *data_qubits*. Wynik funkcji jest zapisywany w kubicie helper_0 należącego do rejestru *helper_qubits*. Ostatecznie wynik programu, czyli decyzja o tym czy funkcja jest zbilansowana lub stała, zostaje zapisany w klasycznym rejestrze bitowym *output_bits* zbudowanym z bitów out_0, out_1, out_2, out_3.\n",
    "\n",
    "Cechą charakterystyczną, odróżniającą podejście kwantowe od klasycznego jest fakt, że o wyniku programu decydują dane zapisane w przetworzonych argumentach (kubitach) a nie, jak to możnaby się spodziewać wyniku. To podejście jest wynikiem wykorzystania zjawisk kwantowych zachodzących w komputerze kwantoym w trakcie przetwarzania."
   ]
  },
  {
   "cell_type": "code",
   "execution_count": 2,
   "metadata": {},
   "outputs": [],
   "source": [
    "data_qubits = QuantumRegister(4, 'data')\n",
    "helper_qubits = QuantumRegister(1, 'help')\n",
    "output_bits = ClassicalRegister(4, 'out')\n",
    "\n",
    "dj_circuit = QuantumCircuit(data_qubits,helper_qubits,output_bits) "
   ]
  },
  {
   "cell_type": "markdown",
   "metadata": {},
   "source": [
    "Algorytm rozpoczyna się od inicjalizacji poszczególnych rejestrów. Początkowo kubity rejestru *data_qubits* są w stanie 0 po czym zostają wprowadzone w stan \"superpozycji\" za pomocą bramek Hadamarda. Analogicznie inicjalizowany jest rejestr *helper_qubits*, który jest wprowadzany w stan \"superpozycji\" ze stanu 1. \"Superpozycja\" pełni rolę tak zwanego \"kwantowego paralelizmu\", który pozwala przetwarzać \"jednocześnie\" wszystkie możliwe kombinacje argumentów funkcji f."
   ]
  },
  {
   "cell_type": "code",
   "execution_count": 3,
   "metadata": {},
   "outputs": [
    {
     "data": {
      "text/html": [
       "<pre style=\"word-wrap: normal;white-space: pre;background: #fff0;line-height: 1.1;font-family: &quot;Courier New&quot;,Courier,monospace\">           ┌───┐      ░ \n",
       "data_0: |0>┤ H ├──────░─\n",
       "           ├───┤      ░ \n",
       "data_1: |0>┤ H ├──────░─\n",
       "           ├───┤      ░ \n",
       "data_2: |0>┤ H ├──────░─\n",
       "           ├───┤      ░ \n",
       "data_3: |0>┤ H ├──────░─\n",
       "           ├───┤┌───┐ ░ \n",
       "help_0: |0>┤ X ├┤ H ├─░─\n",
       "           └───┘└───┘ ░ \n",
       "  out_0: 0 ═════════════\n",
       "                        \n",
       "  out_1: 0 ═════════════\n",
       "                        \n",
       "  out_2: 0 ═════════════\n",
       "                        \n",
       "  out_3: 0 ═════════════\n",
       "                        </pre>"
      ],
      "text/plain": [
       "<qiskit.visualization.text.TextDrawing at 0x7fdfa1affba8>"
      ]
     },
     "execution_count": 3,
     "metadata": {},
     "output_type": "execute_result"
    }
   ],
   "source": [
    "## superposition from 0-state\n",
    "dj_circuit.h(data_qubits) \n",
    "\n",
    "## superposition from 1-state\n",
    "dj_circuit.x(helper_qubits) \n",
    "dj_circuit.h(helper_qubits)\n",
    "\n",
    "## separator\n",
    "dj_circuit.barrier(data_qubits,helper_qubits)\n",
    "\n",
    "dj_circuit.draw()"
   ]
  },
  {
   "cell_type": "markdown",
   "metadata": {},
   "source": [
    "Kolejnym etapem algorytmu jest przetworzenie kubitów znajdujących się w \"superpozycji\" funkcją f(..). W tym przypadku funkcja ta przyjmuje następującą postać:\n",
    "\n",
    "**f(x1, x2, x3, x4) = x1**\n",
    "\n",
    "Ponieważ argument x1 przyjmuje tylko jeden z dwóch stanów (0 lub 1) funkcja f zwraca 0 dla połowy kombinacji argumentów oraz 1 dla drugiej połowy, co czyni ją funkcją zbilansowaną. "
   ]
  },
  {
   "cell_type": "code",
   "execution_count": 4,
   "metadata": {},
   "outputs": [
    {
     "data": {
      "text/html": [
       "<pre style=\"word-wrap: normal;white-space: pre;background: #fff0;line-height: 1.1;font-family: &quot;Courier New&quot;,Courier,monospace\">           ┌───┐      ░       ░ \n",
       "data_0: |0>┤ H ├──────░───■───░─\n",
       "           ├───┤      ░   │   ░ \n",
       "data_1: |0>┤ H ├──────░───┼───░─\n",
       "           ├───┤      ░   │   ░ \n",
       "data_2: |0>┤ H ├──────░───┼───░─\n",
       "           ├───┤      ░   │   ░ \n",
       "data_3: |0>┤ H ├──────░───┼───░─\n",
       "           ├───┤┌───┐ ░ ┌─┴─┐ ░ \n",
       "help_0: |0>┤ X ├┤ H ├─░─┤ X ├─░─\n",
       "           └───┘└───┘ ░ └───┘ ░ \n",
       "  out_0: 0 ═════════════════════\n",
       "                                \n",
       "  out_1: 0 ═════════════════════\n",
       "                                \n",
       "  out_2: 0 ═════════════════════\n",
       "                                \n",
       "  out_3: 0 ═════════════════════\n",
       "                                </pre>"
      ],
      "text/plain": [
       "<qiskit.visualization.text.TextDrawing at 0x7fdfa1b10da0>"
      ]
     },
     "execution_count": 4,
     "metadata": {},
     "output_type": "execute_result"
    }
   ],
   "source": [
    "## Uf implementation\n",
    "dj_circuit.cx(data_qubits[0], helper_qubits[0])\n",
    "## separator\n",
    "dj_circuit.barrier(data_qubits,helper_qubits)\n",
    "\n",
    "dj_circuit.draw()"
   ]
  },
  {
   "cell_type": "markdown",
   "metadata": {},
   "source": [
    "Ostatnim krokiem jest ponowne przetworzenie kubitów *data_qubits* (!) układem bramek Hadamarda. Przetwarzanie zakończone zostało operacjami pomiaru stanu. \n",
    "\n",
    "Jeżeli zmierzony stan będzie równy kombinacji bitów 0000 (czyli wszystkie kubity będą znajdowały się w stanie 0) oznacza to, że funkcja f jest stała. W każdym innym przypadku świadczy to o zbilansowanym charakterze funkcji f. "
   ]
  },
  {
   "cell_type": "code",
   "execution_count": 5,
   "metadata": {},
   "outputs": [
    {
     "data": {
      "text/html": [
       "<pre style=\"word-wrap: normal;white-space: pre;background: #fff0;line-height: 1.1;font-family: &quot;Courier New&quot;,Courier,monospace\">           ┌───┐      ░       ░ ┌───┐┌─┐         \n",
       "data_0: |0>┤ H ├──────░───■───░─┤ H ├┤M├─────────\n",
       "           ├───┤      ░   │   ░ ├───┤└╥┘┌─┐      \n",
       "data_1: |0>┤ H ├──────░───┼───░─┤ H ├─╫─┤M├──────\n",
       "           ├───┤      ░   │   ░ ├───┤ ║ └╥┘┌─┐   \n",
       "data_2: |0>┤ H ├──────░───┼───░─┤ H ├─╫──╫─┤M├───\n",
       "           ├───┤      ░   │   ░ ├───┤ ║  ║ └╥┘┌─┐\n",
       "data_3: |0>┤ H ├──────░───┼───░─┤ H ├─╫──╫──╫─┤M├\n",
       "           ├───┤┌───┐ ░ ┌─┴─┐ ░ └───┘ ║  ║  ║ └╥┘\n",
       "help_0: |0>┤ X ├┤ H ├─░─┤ X ├─░───────╫──╫──╫──╫─\n",
       "           └───┘└───┘ ░ └───┘ ░       ║  ║  ║  ║ \n",
       "  out_0: 0 ═══════════════════════════╩══╬══╬══╬═\n",
       "                                         ║  ║  ║ \n",
       "  out_1: 0 ══════════════════════════════╩══╬══╬═\n",
       "                                            ║  ║ \n",
       "  out_2: 0 ═════════════════════════════════╩══╬═\n",
       "                                               ║ \n",
       "  out_3: 0 ════════════════════════════════════╩═\n",
       "                                                 </pre>"
      ],
      "text/plain": [
       "<qiskit.visualization.text.TextDrawing at 0x7fe025336780>"
      ]
     },
     "execution_count": 5,
     "metadata": {},
     "output_type": "execute_result"
    }
   ],
   "source": [
    "# Step 3. Hadamard\n",
    "dj_circuit.h(data_qubits) \n",
    "# Step 4. Measurment\n",
    "dj_circuit.measure(data_qubits, output_bits)\n",
    "# draw\n",
    "dj_circuit.draw()"
   ]
  },
  {
   "cell_type": "markdown",
   "metadata": {},
   "source": [
    "### Krok 3. Wykonanie programu kwantowego\n",
    "\n",
    "Możliwe wyniki:\n",
    "- 0000 - constant\n",
    "- other - balanced"
   ]
  },
  {
   "cell_type": "code",
   "execution_count": 6,
   "metadata": {
    "scrolled": true
   },
   "outputs": [],
   "source": [
    "# pobranie obiektu reprezentującego komputer kwantowy - w tym przypadku symulator\n",
    "simulator = Aer.get_backend('qasm_simulator')\n",
    "\n",
    "# obwód zostanie wykonany tylko raz z wykorzystaniem symulatora\n",
    "job = execute(dj_circuit, simulator, shots=1)"
   ]
  },
  {
   "cell_type": "markdown",
   "metadata": {},
   "source": [
    "Wynikiem działania programu jest ciąg bitów 0001, który oznacza, że funkcja jest zbilansowana (zgodnie z założeniem)."
   ]
  },
  {
   "cell_type": "code",
   "execution_count": 7,
   "metadata": {},
   "outputs": [
    {
     "data": {
      "image/png": "[encoded data removed]",
      "text/plain": [
       "<Figure size 504x360 with 1 Axes>"
      ]
     },
     "execution_count": 7,
     "metadata": {},
     "output_type": "execute_result"
    }
   ],
   "source": [
    "# pobranie i wyświetlenie wyników\n",
    "result = job.result()\n",
    "counts = result.get_counts(dj_circuit)\n",
    "plot_histogram(counts)"
   ]
  },
  {
   "cell_type": "markdown",
   "metadata": {},
   "source": [
    "### Krok 4. Wykonanie programu z wykorzystaniem komputera kwantowego\n",
    "W poniższym fragmencie kodu zastęp ciąg znaków \"token\" swoim własnym kluczem API usługi IBMQ. "
   ]
  },
  {
   "cell_type": "code",
   "execution_count": 8,
   "metadata": {},
   "outputs": [
    {
     "data": {
      "text/plain": [
       "<AccountProvider for IBMQ(hub='ibm-q', group='open', project='main')>"
      ]
     },
     "execution_count": 8,
     "metadata": {},
     "output_type": "execute_result"
    }
   ],
   "source": [
    "# provide access token\n",
    "IBMQ.enable_account('token')"
   ]
  },
  {
   "cell_type": "code",
   "execution_count": 9,
   "metadata": {},
   "outputs": [],
   "source": [
    "# pobranie obiektu reprezentującego komputer kwantowy z usługi IBMQ\n",
    "provider = IBMQ.get_provider()\n",
    "backend = provider.get_backend('ibmq_ourense')\n",
    "\n",
    "# wykonanie programu\n",
    "job = execute(dj_circuit, backend, shots=1)"
   ]
  },
  {
   "cell_type": "markdown",
   "metadata": {},
   "source": [
    "Ostatecznie wynik symulatora potwierdza wynik przetwarzania uzyskany z wykorzystaniem komputera kwantowego. Można zauważyć, że wynik nie jest dokładnie identyczny z wynikiem symulatora. Różnice mają swoje źródło w wielu czynnikach związanych z niedoskonałościami symulatora jak i samego komputera kwantowego. "
   ]
  },
  {
   "cell_type": "code",
   "execution_count": 10,
   "metadata": {},
   "outputs": [
    {
     "data": {
      "image/png": "[encoded data removed]",
      "text/plain": [
       "<Figure size 504x360 with 1 Axes>"
      ]
     },
     "execution_count": 10,
     "metadata": {},
     "output_type": "execute_result"
    }
   ],
   "source": [
    "# wyświetlenie wyników\n",
    "result = job.result()\n",
    "counts = result.get_counts(dj_circuit)\n",
    "plot_histogram(counts)"
   ]
  }
 ],
 "metadata": {
  "kernelspec": {
   "display_name": "Python 3",
   "language": "python",
   "name": "python3"
  },
  "language_info": {
   "codemirror_mode": {
    "name": "ipython",
    "version": 3
   },
   "file_extension": ".py",
   "mimetype": "text/x-python",
   "name": "python",
   "nbconvert_exporter": "python",
   "pygments_lexer": "ipython3",
   "version": "3.6.9"
  }
 },
 "nbformat": 4,
 "nbformat_minor": 2
}
